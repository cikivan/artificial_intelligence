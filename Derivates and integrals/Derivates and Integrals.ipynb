{
 "cells": [
  {
   "cell_type": "code",
   "execution_count": 28,
   "metadata": {},
   "outputs": [],
   "source": [
    "# defining our function\n",
    "# The derivate is just how much the function is increasing or decreasing at a certain point\n",
    "def f(x):\n",
    "    return x**2\n",
    "\n",
    "def derivative(x):\n",
    "    # h is the change in x. It used to be called delta(x)\n",
    "    h = 1./1000.\n",
    "    rise = f(x + h)- f(x)\n",
    "    run = h\n",
    "    slope = rise / run\n",
    "    return slope "
   ]
  },
  {
   "cell_type": "code",
   "execution_count": 25,
   "metadata": {},
   "outputs": [
    {
     "name": "stdout",
     "output_type": "stream",
     "text": [
      "2.0009999999996975\n",
      "4.000999999999699\n",
      "6.000999999999479\n"
     ]
    }
   ],
   "source": [
    "print(derivative(1))\n",
    "print(derivative(2))\n",
    "print(derivative(3))"
   ]
  },
  {
   "cell_type": "code",
   "execution_count": 26,
   "metadata": {},
   "outputs": [],
   "source": [
    "# The definite integral is the area under a curve. \n",
    "# It is approximated by adding up a tons of rectangles/\n",
    "# Height of rectangle is f(x)\n",
    "# The more rectangles - > The better approximation\n",
    "def integral(startingx, endingx, numberofRectangles):\n",
    "    width = (float(endingx) - float(startingx))/numberofRectangles\n",
    "    # This will be the running sum of the areas\n",
    "    runningSum=0\n",
    "    for i in range(numberofRectangles):\n",
    "        # each rectangle is 1 width after the previous one\n",
    "        height = f(startingx + i*width)\n",
    "        area = height * width\n",
    "        # updating the running sum of the areas\n",
    "        runningSum += area\n",
    "    return runningSum"
   ]
  },
  {
   "cell_type": "code",
   "execution_count": 27,
   "metadata": {},
   "outputs": [
    {
     "data": {
      "text/plain": [
       "0.33332833334999745"
      ]
     },
     "execution_count": 27,
     "metadata": {},
     "output_type": "execute_result"
    }
   ],
   "source": [
    "integral(0,1,100000)"
   ]
  }
 ],
 "metadata": {
  "kernelspec": {
   "display_name": "Python 3",
   "language": "python",
   "name": "python3"
  },
  "language_info": {
   "codemirror_mode": {
    "name": "ipython",
    "version": 3
   },
   "file_extension": ".py",
   "mimetype": "text/x-python",
   "name": "python",
   "nbconvert_exporter": "python",
   "pygments_lexer": "ipython3",
   "version": "3.7.4"
  }
 },
 "nbformat": 4,
 "nbformat_minor": 2
}
