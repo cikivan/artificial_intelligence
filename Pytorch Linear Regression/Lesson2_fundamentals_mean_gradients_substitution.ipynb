{
 "cells": [
  {
   "cell_type": "markdown",
   "metadata": {},
   "source": [
    "### PyTorch Fundamentals\n",
    "#### 2. Variables and Gradients\n",
    "##### 2.1 Variables\n",
    "- A variable wraps tensor\n",
    "- Allows accumuulation of gradients"
   ]
  },
  {
   "cell_type": "code",
   "execution_count": 1,
   "metadata": {},
   "outputs": [
    {
     "name": "stdout",
     "output_type": "stream",
     "text": [
      "<class 'torch.Tensor'>\n"
     ]
    },
    {
     "data": {
      "text/plain": [
       "tensor([[1., 1.],\n",
       "        [1., 1.]], requires_grad=True)"
      ]
     },
     "execution_count": 1,
     "metadata": {},
     "output_type": "execute_result"
    }
   ],
   "source": [
    "import torch\n",
    "from torch.autograd import Variable\n",
    "a = Variable(torch.ones(2,2), requires_grad=True) # torch ones -> not torch variable\n",
    "torch.ones(2,2) # not a variable\n",
    "print(type(a))\n",
    "a"
   ]
  },
  {
   "cell_type": "code",
   "execution_count": 2,
   "metadata": {},
   "outputs": [
    {
     "name": "stdout",
     "output_type": "stream",
     "text": [
      "tensor([[2., 2.],\n",
      "        [2., 2.]], grad_fn=<AddBackward0>)\n",
      "tensor([[2., 2.],\n",
      "        [2., 2.]], grad_fn=<AddBackward0>)\n",
      "tensor([[1., 1.],\n",
      "        [1., 1.]], grad_fn=<MulBackward0>)\n",
      "tensor([[1., 1.],\n",
      "        [1., 1.]], grad_fn=<MulBackward0>)\n"
     ]
    }
   ],
   "source": [
    "b=Variable(torch.ones(2,2), requires_grad=True)\n",
    "print(a + b)\n",
    "print(torch.add(a,b))\n",
    "print(a * b)\n",
    "print(torch.mul(a,b))"
   ]
  },
  {
   "cell_type": "markdown",
   "metadata": {},
   "source": [
    "### Gradients\n",
    "#### What exactly is requires_grad?\n",
    "- Allows calculation of gradients w.r.t. the variable\n",
    "$y_{i}=5(x_{i}+1)^2$"
   ]
  },
  {
   "cell_type": "code",
   "execution_count": 3,
   "metadata": {},
   "outputs": [
    {
     "data": {
      "text/plain": [
       "tensor([1., 1.], requires_grad=True)"
      ]
     },
     "execution_count": 3,
     "metadata": {},
     "output_type": "execute_result"
    }
   ],
   "source": [
    "x = Variable(torch.ones(2), requires_grad=True)\n",
    "x"
   ]
  },
  {
   "cell_type": "markdown",
   "metadata": {},
   "source": [
    "$x=1$ then $y_{i}(1)=5(1+1)^2=5(4)=20$"
   ]
  },
  {
   "cell_type": "code",
   "execution_count": 4,
   "metadata": {},
   "outputs": [
    {
     "data": {
      "text/plain": [
       "tensor([20., 20.], grad_fn=<MulBackward0>)"
      ]
     },
     "execution_count": 4,
     "metadata": {},
     "output_type": "execute_result"
    }
   ],
   "source": [
    "y = 5* (x+1) **2 # equation in python\n",
    "y"
   ]
  },
  {
   "cell_type": "markdown",
   "metadata": {},
   "source": [
    "### Backward should be called only on a scalar (i.e. 1-element tensor) or with gradient with respect to (w.r.t.) the variable\n",
    "- Let's reduce y to a scalar then..."
   ]
  },
  {
   "cell_type": "markdown",
   "metadata": {},
   "source": [
    "$ o = 1/2 \\sum_{i} y_{i}$"
   ]
  },
  {
   "cell_type": "code",
   "execution_count": 5,
   "metadata": {},
   "outputs": [
    {
     "data": {
      "text/plain": [
       "tensor(20., grad_fn=<MulBackward0>)"
      ]
     },
     "execution_count": 5,
     "metadata": {},
     "output_type": "execute_result"
    }
   ],
   "source": [
    "o = (1/2) * torch.sum(y)\n",
    "o"
   ]
  },
  {
   "cell_type": "code",
   "execution_count": 6,
   "metadata": {},
   "outputs": [
    {
     "data": {
      "text/plain": [
       "tensor(20., grad_fn=<MulBackward0>)"
      ]
     },
     "execution_count": 6,
     "metadata": {},
     "output_type": "execute_result"
    }
   ],
   "source": [
    "o = (1/2) * torch.sum(y)\n",
    "o"
   ]
  },
  {
   "cell_type": "markdown",
   "metadata": {},
   "source": [
    "##### Function -> o (mean of function , 1/2 cause 2 elements) -> substiton - >symbolic differentation\n",
    "<b> Recap y equation: </b> $ y_{i}=5(x_{i} + 1 )^2 $ <br/>\n",
    "<b> Recap o equation: </b> $ o = (1/2) * \\sum_{i} y_{i}$ <br/>\n",
    "<b> Substitute y into o equation: </b> $ o = (1/2) \\sum_{i} 5(x_{i} + 1)^2$\n",
    "\n",
    "$\\frac{\\partial o}{\\partial x_{i}} = (1/2) [10(x_{i} +1)]$\n",
    "\n",
    "Now for $x_{i}=1$\n",
    "\n",
    "$\\frac{\\partial o}{\\partial x_{i}} = (1/2) [10(1 + 1)]= (10/2)(2)=10$"
   ]
  },
  {
   "cell_type": "code",
   "execution_count": 7,
   "metadata": {},
   "outputs": [
    {
     "data": {
      "text/plain": [
       "tensor([10., 10.])"
      ]
     },
     "execution_count": 7,
     "metadata": {},
     "output_type": "execute_result"
    }
   ],
   "source": [
    "# first we calculated o <- mean\n",
    "o.backward()   # it calcualates gradients with respect to x\n",
    "x.grad"
   ]
  },
  {
   "cell_type": "code",
   "execution_count": 8,
   "metadata": {},
   "outputs": [],
   "source": [
    "# z=torch.ones(2,2)\n",
    "# o.backward(torch.FloatTensor(z))\n",
    "# x.grad"
   ]
  },
  {
   "cell_type": "markdown",
   "metadata": {},
   "source": [
    "### Summary\n",
    "- Variable\n",
    "    - Wraps a tensor for gradient accumulation\n",
    "- Gradients\n",
    "    - Define original equation\n",
    "    - Substitute equation with x values\n",
    "    - Reduce to scalar output, o through mean\n",
    "    - Calculate gradients with o.backward()\n",
    "    - Then access gradients of the x variable through x.grad"
   ]
  }
 ],
 "metadata": {
  "kernelspec": {
   "display_name": "Python 3",
   "language": "python",
   "name": "python3"
  },
  "language_info": {
   "codemirror_mode": {
    "name": "ipython",
    "version": 3
   },
   "file_extension": ".py",
   "mimetype": "text/x-python",
   "name": "python",
   "nbconvert_exporter": "python",
   "pygments_lexer": "ipython3",
   "version": "3.7.4"
  }
 },
 "nbformat": 4,
 "nbformat_minor": 2
}
