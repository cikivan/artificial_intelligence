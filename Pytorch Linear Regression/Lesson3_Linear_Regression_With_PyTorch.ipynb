{
 "cells": [
  {
   "cell_type": "markdown",
   "metadata": {},
   "source": [
    "### 6. Linear Regression with PyTorch\n",
    "#### 1. About Linear Regression\n",
    "##### 1.1 Simple Linear Regression Basics\n",
    "- Allows us to <b> understand relationship between two continuous variables </b>\n",
    "- Example\n",
    "    - x: independent variable <- when X changes it affects Y (when a,b are constant)\n",
    "        - weigth\n",
    "    - y: dependent variable\n",
    "        - height\n",
    "    - $ y = \\alpha x + \\beta $"
   ]
  },
  {
   "cell_type": "markdown",
   "metadata": {},
   "source": [
    "##### 1.2 Example of simple linear regression"
   ]
  },
  {
   "cell_type": "code",
   "execution_count": 2,
   "metadata": {},
   "outputs": [
    {
     "data": {
      "image/png": "[encoded data removed]",
      "text/plain": [
       "<Figure size 432x288 with 1 Axes>"
      ]
     },
     "metadata": {
      "needs_background": "light"
     },
     "output_type": "display_data"
    }
   ],
   "source": [
    "# Modeling behaviour between x y\n",
    "import numpy as np\n",
    "import matplotlib.pyplot as plt\n",
    "\n",
    "np.random.seed(1) # seed\n",
    "n = 50 # number of points\n",
    "x = np.random.randn(n) # x variable\n",
    "y = x * np.random.randn(n) # y variable\n",
    "\n",
    "# We try to make there a line that will fit the so much points as it is possible\n",
    "\n",
    "colors = np.random.rand(n)\n",
    "plt.plot(np.unique(x), np.poly1d(np.polyfit(x, y, 1))(np.unique(x)))\n",
    "\n",
    "plt.scatter(x, y, c=colors, alpha=0.5)\n",
    "plt.show()"
   ]
  },
  {
   "cell_type": "markdown",
   "metadata": {},
   "source": [
    "##### 1.3 Aim of Linear Regression\n",
    "- Minimize thedistance between the pointsandthe line $ y = \\alpha x + \\beta $\n",
    "- Adjusting \n",
    "    - Coefficient: $ \\alpha $ <- changes orientation of the line\n",
    "    - Bias/Intercept: $ \\beta $ <- moves the line up or down\n",
    "\n",
    "#### 2. Building a Linear Regression Model with PyTorch\n",
    "##### 2.1 Example\n",
    "- Coefficient: $ \\alpha = 1 $ , when alfa is large number then the line is very steep, or when it is close to 0 it is similar to straight line\n",
    "- Bias/Intercept: $ \\beta = 1 $\n",
    "- Equation: $ y = 2x + 1 $\n",
    "    \n",
    "    "
   ]
  },
  {
   "cell_type": "markdown",
   "metadata": {},
   "source": [
    "##### 2.2 Building a Toy Dataset"
   ]
  },
  {
   "cell_type": "code",
   "execution_count": 2,
   "metadata": {},
   "outputs": [
    {
     "data": {
      "text/plain": [
       "[0, 1, 2, 3, 4, 5, 6, 7, 8, 9, 10]"
      ]
     },
     "execution_count": 2,
     "metadata": {},
     "output_type": "execute_result"
    }
   ],
   "source": [
    "x_values = [i for i in range(11)]\n",
    "x_values"
   ]
  },
  {
   "cell_type": "code",
   "execution_count": 3,
   "metadata": {},
   "outputs": [
    {
     "name": "stdout",
     "output_type": "stream",
     "text": [
      "[ 0.  1.  2.  3.  4.  5.  6.  7.  8.  9. 10.]\n"
     ]
    }
   ],
   "source": [
    "# Convert tonumpy\n",
    "x_train = np.array(x_values, dtype=np.float32) # only 1-d \n",
    "x_train.shape\n",
    "print(x_train)"
   ]
  },
  {
   "cell_type": "code",
   "execution_count": 4,
   "metadata": {},
   "outputs": [
    {
     "name": "stdout",
     "output_type": "stream",
     "text": [
      "[[ 0.]\n",
      " [ 1.]\n",
      " [ 2.]\n",
      " [ 3.]\n",
      " [ 4.]\n",
      " [ 5.]\n",
      " [ 6.]\n",
      " [ 7.]\n",
      " [ 8.]\n",
      " [ 9.]\n",
      " [10.]]\n"
     ]
    }
   ],
   "source": [
    "# IMPORTANT: 2drequired\n",
    "x_train = x_train.reshape(-1,1)\n",
    "x_train.shape\n",
    "print(x_train)"
   ]
  },
  {
   "cell_type": "markdown",
   "metadata": {},
   "source": [
    "$ y = 2x +1 $"
   ]
  },
  {
   "cell_type": "code",
   "execution_count": 5,
   "metadata": {},
   "outputs": [
    {
     "data": {
      "text/plain": [
       "[1, 3, 5, 7, 9, 11, 13, 15, 17, 19, 21]"
      ]
     },
     "execution_count": 5,
     "metadata": {},
     "output_type": "execute_result"
    }
   ],
   "source": [
    "y_values = [2*i + 1 for i in x_values] # building relationship for y\n",
    "y_values"
   ]
  },
  {
   "cell_type": "code",
   "execution_count": 6,
   "metadata": {},
   "outputs": [],
   "source": [
    "# In case you're weak in list iterators\n",
    "y_values = []\n",
    "for i in x_values:\n",
    "    result = 2*i + 1\n",
    "    y_values.append(result)"
   ]
  },
  {
   "cell_type": "code",
   "execution_count": 7,
   "metadata": {},
   "outputs": [
    {
     "name": "stdout",
     "output_type": "stream",
     "text": [
      "[ 1.  3.  5.  7.  9. 11. 13. 15. 17. 19. 21.]\n"
     ]
    }
   ],
   "source": [
    "y_train = np.array(y_values, dtype=np.float32) # again convert to NumPy\n",
    "y_train.shape\n",
    "print(y_train)"
   ]
  },
  {
   "cell_type": "code",
   "execution_count": 8,
   "metadata": {},
   "outputs": [
    {
     "name": "stdout",
     "output_type": "stream",
     "text": [
      "[[ 1.]\n",
      " [ 3.]\n",
      " [ 5.]\n",
      " [ 7.]\n",
      " [ 9.]\n",
      " [11.]\n",
      " [13.]\n",
      " [15.]\n",
      " [17.]\n",
      " [19.]\n",
      " [21.]]\n"
     ]
    }
   ],
   "source": [
    "# IMPORTANT: 2D required\n",
    "y_train = y_train.reshape(-1, 1)\n",
    "y_train.shape\n",
    "print(y_train)"
   ]
  },
  {
   "cell_type": "markdown",
   "metadata": {},
   "source": [
    "#### 2.3 Building Model\n",
    "##### Critical imports"
   ]
  },
  {
   "cell_type": "code",
   "execution_count": 9,
   "metadata": {},
   "outputs": [],
   "source": [
    "import torch\n",
    "import torch.nn as nn # require for linear regression model\n",
    "from torch.autograd import Variable"
   ]
  },
  {
   "cell_type": "markdown",
   "metadata": {},
   "source": [
    "##### Create Model\n",
    "\n",
    "We want to model this relationship given a particular x dataset\n",
    "1. Linear Model\n",
    "    - True Equation: y = 2x + 1\n",
    "2. Forward\n",
    "    - Example\n",
    "        - Input x = 1\n",
    "        - Output y = ? "
   ]
  },
  {
   "cell_type": "code",
   "execution_count": 10,
   "metadata": {},
   "outputs": [],
   "source": [
    "# Create model class\n",
    "class LinearRegressionModel(nn.Module): # passing nn.Module <- always when define modul\n",
    "    def __init__(self, input_size, output_size): \n",
    "        super(LinearRegressionModel, self).__init__() # super () <- inherits from nn.Module and allows \n",
    "        # you to use verything from nn.Module\n",
    "        self.linear = nn.Linear(input_dim, output_dim) # input dim = x, output dim = y\n",
    "    \n",
    "    def forward(self,x): #  x -values of x\n",
    "        out = self.linear(x) # self.linear, we call this function for each value of x\n",
    "        return out"
   ]
  },
  {
   "cell_type": "markdown",
   "metadata": {},
   "source": [
    "##### Instantiate Model Class\n",
    "    - input: [0, 1, 2, 3, 4, 5, 6, 7, 8, 9, 10]\n",
    "    - desired output: [1, 3, 5, 7, 9, 11, 13, 15, 17, 19, 21]"
   ]
  },
  {
   "cell_type": "code",
   "execution_count": 11,
   "metadata": {},
   "outputs": [],
   "source": [
    "input_dim = 1\n",
    "output_dim = 1\n",
    "\n",
    "model = LinearRegressionModel(input_dim, output_dim)"
   ]
  },
  {
   "cell_type": "markdown",
   "metadata": {},
   "source": [
    "### Instantiate Loss Class\n",
    "- How we want to minimize the distance between the predicted values and true values\n",
    "- MSE Loss: Mean Squared Error \n",
    "- MSE = $ \\frac{1}{n} \\sum_{i = 1}^{n} (\\hat{y}_{i} - y_{i})^2 $\n",
    "    - $ \\hat{y} $ : prediction\n",
    "    - $ y $ : true value\n",
    "- Basicaly it counts true value and predicted value deviation"
   ]
  },
  {
   "cell_type": "code",
   "execution_count": 12,
   "metadata": {},
   "outputs": [],
   "source": [
    "# This basically measures the distance (the mean square error)\n",
    "criterion = nn.MSELoss()"
   ]
  },
  {
   "cell_type": "markdown",
   "metadata": {},
   "source": [
    "### Instantiate Optimizer Class\n",
    "\n",
    "- Simplified equation\n",
    "    - $ \\theta = \\theta - \\eta * \\nabla_{\\theta} $\n",
    "        - $ \\theta $ : parameters (our variables, we want to continually update them - $ \\alpha $ and $ \\beta $)\n",
    "        - $ \\eta $ : learning rate (how fast we want to learn)\n",
    "        - $ \\nabla_{\\theta} $ : parameters' gradients\n",
    "- Even simplier equation\n",
    "    - <b> parameters = parameters - learning_rate * parameters_gradients </b>\n",
    "        - parameters: $ \\alpha $ and $ \\beta $ in $ y = \\alpha x + \\beta $\n",
    "        - We want to update parameters $\\alpha$ and $\\beta$ to fit the line as best as possible to the points we have\n",
    "        - desired parameters: $ \\alpha = 2 $ and $ \\beta = 1 $ in $ y = 2x +1 $"
   ]
  },
  {
   "cell_type": "code",
   "execution_count": 13,
   "metadata": {},
   "outputs": [],
   "source": [
    "# think about the learning rate like how fast we want our model to \n",
    "# do this learning proccess to get the best fitting graph the line\n",
    "# We dont want big value because we dont want graph to be movin up and down too much\n",
    "# We want to make gradual changes to reach its ideal final destination (local minima)\n",
    "learning_rate = 0.01\n",
    "\n",
    "# Instiantiate Optimizer Class\n",
    "# SGD is method of optimalization\n",
    "# We minimize the distance between the predicted and true values\n",
    "# model paramaters <- alpha & beta\n",
    "optimizer = torch.optim.SGD(model.parameters(), lr=learning_rate)"
   ]
  },
  {
   "cell_type": "markdown",
   "metadata": {},
   "source": [
    "### Train model\n",
    "- 1 epoch: going through the whole x_train data once\n",
    "    - 100 epochs:\n",
    "        - 100x mapping  <b> x_train = [0, 1, 2, 3, 4, 5, 6, 7, 8, 9, 10] </b>\n",
    "- Process\n",
    "    1. Convert inputs/labels tovariables\n",
    "    2. Clear gradient buffets\n",
    "    3. Get output given inputs\n",
    "    4. Get loss\n",
    "    5. Get gradients w.r.t. (without respect to) parameters\n",
    "    6. Update parameters using gradients\n",
    "        - <b> parameters = parameters - learning_rate * parameters_gradients </b>\n",
    "    7. REPEAT"
   ]
  },
  {
   "cell_type": "code",
   "execution_count": 14,
   "metadata": {},
   "outputs": [],
   "source": [
    "# As you do more epochs your final parameters would more accurately measure the values that we want \n",
    "# Be awared if you train for too many epochs !\n",
    "# It will work on train data not on test data\n",
    "epochs=100"
   ]
  },
  {
   "cell_type": "code",
   "execution_count": 15,
   "metadata": {},
   "outputs": [
    {
     "name": "stdout",
     "output_type": "stream",
     "text": [
      "epoch 1, loss 57.81561279296875\n",
      "epoch 2, loss 5.415572166442871\n",
      "epoch 3, loss 1.133652925491333\n",
      "epoch 4, loss 0.7766638994216919\n",
      "epoch 5, loss 0.7399051189422607\n",
      "epoch 6, loss 0.7293522357940674\n",
      "epoch 7, loss 0.7210208177566528\n",
      "epoch 8, loss 0.7129541635513306\n",
      "epoch 9, loss 0.704991340637207\n",
      "epoch 10, loss 0.6971186399459839\n",
      "epoch 11, loss 0.6893337368965149\n",
      "epoch 12, loss 0.6816362142562866\n",
      "epoch 13, loss 0.6740244030952454\n",
      "epoch 14, loss 0.6664975881576538\n",
      "epoch 15, loss 0.6590554714202881\n",
      "epoch 16, loss 0.6516958475112915\n",
      "epoch 17, loss 0.6444182395935059\n",
      "epoch 18, loss 0.6372219324111938\n",
      "epoch 19, loss 0.6301064491271973\n",
      "epoch 20, loss 0.6230700016021729\n",
      "epoch 21, loss 0.6161119937896729\n",
      "epoch 22, loss 0.6092323064804077\n",
      "epoch 23, loss 0.6024290323257446\n",
      "epoch 24, loss 0.5957015156745911\n",
      "epoch 25, loss 0.5890496969223022\n",
      "epoch 26, loss 0.582471489906311\n",
      "epoch 27, loss 0.5759672522544861\n",
      "epoch 28, loss 0.5695356726646423\n",
      "epoch 29, loss 0.5631757378578186\n",
      "epoch 30, loss 0.5568865537643433\n",
      "epoch 31, loss 0.550667941570282\n",
      "epoch 32, loss 0.5445188283920288\n",
      "epoch 33, loss 0.5384387373924255\n",
      "epoch 34, loss 0.5324258804321289\n",
      "epoch 35, loss 0.5264801979064941\n",
      "epoch 36, loss 0.5206012725830078\n",
      "epoch 37, loss 0.5147876739501953\n",
      "epoch 38, loss 0.5090389847755432\n",
      "epoch 39, loss 0.5033547878265381\n",
      "epoch 40, loss 0.49773383140563965\n",
      "epoch 41, loss 0.4921756982803345\n",
      "epoch 42, loss 0.4866797924041748\n",
      "epoch 43, loss 0.4812452495098114\n",
      "epoch 44, loss 0.475870817899704\n",
      "epoch 45, loss 0.47055697441101074\n",
      "epoch 46, loss 0.46530210971832275\n",
      "epoch 47, loss 0.4601064622402191\n",
      "epoch 48, loss 0.4549683630466461\n",
      "epoch 49, loss 0.44988787174224854\n",
      "epoch 50, loss 0.44486427307128906\n",
      "epoch 51, loss 0.43989622592926025\n",
      "epoch 52, loss 0.43498390913009644\n",
      "epoch 53, loss 0.4301266372203827\n",
      "epoch 54, loss 0.4253237247467041\n",
      "epoch 55, loss 0.42057403922080994\n",
      "epoch 56, loss 0.41587749123573303\n",
      "epoch 57, loss 0.41123372316360474\n",
      "epoch 58, loss 0.4066412150859833\n",
      "epoch 59, loss 0.40210047364234924\n",
      "epoch 60, loss 0.39761024713516235\n",
      "epoch 61, loss 0.393170028924942\n",
      "epoch 62, loss 0.38877955079078674\n",
      "epoch 63, loss 0.38443800806999207\n",
      "epoch 64, loss 0.38014522194862366\n",
      "epoch 65, loss 0.3759002387523651\n",
      "epoch 66, loss 0.3717026114463806\n",
      "epoch 67, loss 0.3675519526004791\n",
      "epoch 68, loss 0.3634476065635681\n",
      "epoch 69, loss 0.35938894748687744\n",
      "epoch 70, loss 0.355375736951828\n",
      "epoch 71, loss 0.35140711069107056\n",
      "epoch 72, loss 0.347483366727829\n",
      "epoch 73, loss 0.34360283613204956\n",
      "epoch 74, loss 0.3397659361362457\n",
      "epoch 75, loss 0.33597180247306824\n",
      "epoch 76, loss 0.33222025632858276\n",
      "epoch 77, loss 0.3285102844238281\n",
      "epoch 78, loss 0.32484155893325806\n",
      "epoch 79, loss 0.3212142586708069\n",
      "epoch 80, loss 0.3176272213459015\n",
      "epoch 81, loss 0.314080148935318\n",
      "epoch 82, loss 0.31057319045066833\n",
      "epoch 83, loss 0.30710482597351074\n",
      "epoch 84, loss 0.30367550253868103\n",
      "epoch 85, loss 0.30028456449508667\n",
      "epoch 86, loss 0.2969314157962799\n",
      "epoch 87, loss 0.29361554980278015\n",
      "epoch 88, loss 0.29033681750297546\n",
      "epoch 89, loss 0.2870945632457733\n",
      "epoch 90, loss 0.283888578414917\n",
      "epoch 91, loss 0.28071847558021545\n",
      "epoch 92, loss 0.27758389711380005\n",
      "epoch 93, loss 0.27448412775993347\n",
      "epoch 94, loss 0.27141889929771423\n",
      "epoch 95, loss 0.2683880031108856\n",
      "epoch 96, loss 0.26539117097854614\n",
      "epoch 97, loss 0.2624274790287018\n",
      "epoch 98, loss 0.2594969868659973\n",
      "epoch 99, loss 0.2565990686416626\n",
      "epoch 100, loss 0.2537338137626648\n"
     ]
    }
   ],
   "source": [
    "for epoch in range(epochs):\n",
    "    # we run \"epoch 1 not 0\"\n",
    "    epoch += 1\n",
    "    \n",
    "    # Convert numpy array to torch -> then ->\n",
    "    # -> to Variable that can accumulate gradiatents\n",
    "    inputs = Variable(torch.from_numpy(x_train))\n",
    "    labels = Variable(torch.from_numpy(y_train))\n",
    "    \n",
    "    # Clear gradients w.r.t. parameters <- for every epoch, we dont want to \n",
    "    # accumulate the gradients\n",
    "    optimizer.zero_grad()\n",
    "    \n",
    "    # Forward to get output\n",
    "    # Outputs <- y (certain values)\n",
    "    # Inputs <- x\n",
    "    # Model <- multiplying by alfa * input + beta\n",
    "    outputs = model(inputs)\n",
    "    \n",
    "    # Calculate scalar Loss\n",
    "    # We compare our predicted values to real values\n",
    "    # to minimize the loss via function before\n",
    "    loss = criterion(outputs, labels)\n",
    "    \n",
    "    # Getting gradients w.r.t. parameters\n",
    "    # Backward pass to calculate the gradients\n",
    "    loss.backward()\n",
    "    \n",
    "    # Upating parameters\n",
    "    # Again in next epoch we clear the optimizer\n",
    "    optimizer.step()\n",
    "    \n",
    "    print('epoch {}, loss {}'.format(epoch, loss))\n",
    "    # We see that predicted values are far away from true y values\n",
    "    # Error is huge -> Backpropagation gets this error and update the parameters ->\n",
    "    # smaller loss -> we get gradients -> update parameters "
   ]
  },
  {
   "cell_type": "markdown",
   "metadata": {},
   "source": [
    "### Compare Data"
   ]
  },
  {
   "cell_type": "code",
   "execution_count": 16,
   "metadata": {},
   "outputs": [
    {
     "data": {
      "text/plain": [
       "array([[ 0.06297887],\n",
       "       [ 2.1979184 ],\n",
       "       [ 4.3328576 ],\n",
       "       [ 6.4677973 ],\n",
       "       [ 8.602736  ],\n",
       "       [10.737676  ],\n",
       "       [12.872616  ],\n",
       "       [15.007555  ],\n",
       "       [17.142494  ],\n",
       "       [19.277433  ],\n",
       "       [21.412373  ]], dtype=float32)"
      ]
     },
     "execution_count": 16,
     "metadata": {},
     "output_type": "execute_result"
    }
   ],
   "source": [
    "# Purely inference\n",
    "# We are passing to our model, tensor variable of x train data\n",
    "# We want to access variable so .data then .numpy to be more readable \n",
    "predicted = model(Variable(torch.from_numpy(x_train))).data.numpy()\n",
    "# Print predicted y\n",
    "predicted"
   ]
  },
  {
   "cell_type": "code",
   "execution_count": 17,
   "metadata": {},
   "outputs": [
    {
     "data": {
      "text/plain": [
       "array([[ 1.],\n",
       "       [ 3.],\n",
       "       [ 5.],\n",
       "       [ 7.],\n",
       "       [ 9.],\n",
       "       [11.],\n",
       "       [13.],\n",
       "       [15.],\n",
       "       [17.],\n",
       "       [19.],\n",
       "       [21.]], dtype=float32)"
      ]
     },
     "execution_count": 17,
     "metadata": {},
     "output_type": "execute_result"
    }
   ],
   "source": [
    "# y = 2x + 1\n",
    "y_train\n",
    "# Predictive values are relatively close to our labels\n",
    "# We start to realize that after training we have parameters that can\n",
    "# predict the values which are idealy identical or close to our labels"
   ]
  },
  {
   "cell_type": "code",
   "execution_count": 18,
   "metadata": {},
   "outputs": [
    {
     "data": {
      "image/png": "[encoded data removed]",
      "text/plain": [
       "<Figure size 432x288 with 1 Axes>"
      ]
     },
     "metadata": {
      "needs_background": "light"
     },
     "output_type": "display_data"
    }
   ],
   "source": [
    "# Clear figure\n",
    "plt.clf()\n",
    "\n",
    "# Get predicitions\n",
    "# We feed x data to our model\n",
    "predicted = model(Variable(torch.from_numpy(x_train))).data.numpy()\n",
    "\n",
    "# Plot true data\n",
    "plt.plot(x_train, y_train, 'go', label='True data', alpha=0.5)\n",
    "\n",
    "# Plot predicitions\n",
    "plt.plot(x_train, predicted, '--', label='Predictions', alpha=0.5)\n",
    "\n",
    "# Legend and plot\n",
    "plt.legend(loc='best')\n",
    "\n",
    "plt.show()"
   ]
  },
  {
   "cell_type": "markdown",
   "metadata": {},
   "source": [
    "### Save Model"
   ]
  },
  {
   "cell_type": "code",
   "execution_count": 19,
   "metadata": {},
   "outputs": [],
   "source": [
    "save_model = False\n",
    "if save_model is True:\n",
    "    # Save only parameters - alpha(coefficient) & beta(intercept)\n",
    "    torch.save(model.state_dict(), 'awesome_model.pkl')"
   ]
  },
  {
   "cell_type": "markdown",
   "metadata": {},
   "source": [
    "### Load Model"
   ]
  },
  {
   "cell_type": "code",
   "execution_count": 20,
   "metadata": {},
   "outputs": [],
   "source": [
    "load_model = False\n",
    "if load_model is True:\n",
    "    model.load_state_dict(torch.load('awesome_model.pkl'))"
   ]
  },
  {
   "cell_type": "markdown",
   "metadata": {},
   "source": [
    "### GPU Code summary\n",
    "GPU: 2 things must be on GPU\n",
    "- model\n",
    "- variables"
   ]
  },
  {
   "cell_type": "code",
   "execution_count": 21,
   "metadata": {},
   "outputs": [
    {
     "name": "stdout",
     "output_type": "stream",
     "text": [
      "epoch1, loss 105.61937713623047\n",
      "epoch2, loss 9.099535942077637\n",
      "epoch3, loss 1.221309781074524\n",
      "epoch4, loss 0.5733572840690613\n",
      "epoch5, loss 0.5152159333229065\n",
      "epoch6, loss 0.5052423477172852\n",
      "epoch7, loss 0.4992563724517822\n",
      "epoch8, loss 0.4936527609825134\n",
      "epoch9, loss 0.4881381392478943\n",
      "epoch10, loss 0.4826871156692505\n",
      "epoch11, loss 0.47729673981666565\n",
      "epoch12, loss 0.47196701169013977\n",
      "epoch13, loss 0.46669644117355347\n",
      "epoch14, loss 0.4614847004413605\n",
      "epoch15, loss 0.45633161067962646\n",
      "epoch16, loss 0.45123571157455444\n",
      "epoch17, loss 0.44619685411453247\n",
      "epoch18, loss 0.4412141740322113\n",
      "epoch19, loss 0.4362873435020447\n",
      "epoch20, loss 0.4314153790473938\n",
      "epoch21, loss 0.4265977442264557\n",
      "epoch22, loss 0.42183423042297363\n",
      "epoch23, loss 0.4171236753463745\n",
      "epoch24, loss 0.4124656319618225\n",
      "epoch25, loss 0.407859742641449\n",
      "epoch26, loss 0.40330514311790466\n",
      "epoch27, loss 0.3988012373447418\n",
      "epoch28, loss 0.39434814453125\n",
      "epoch29, loss 0.38994452357292175\n",
      "epoch30, loss 0.385590136051178\n",
      "epoch31, loss 0.38128429651260376\n",
      "epoch32, loss 0.37702658772468567\n",
      "epoch33, loss 0.3728165328502655\n",
      "epoch34, loss 0.368653267621994\n",
      "epoch35, loss 0.36453646421432495\n",
      "epoch36, loss 0.3604656159877777\n",
      "epoch37, loss 0.3564402163028717\n",
      "epoch38, loss 0.35246017575263977\n",
      "epoch39, loss 0.34852421283721924\n",
      "epoch40, loss 0.3446323871612549\n",
      "epoch41, loss 0.34078389406204224\n",
      "epoch42, loss 0.3369787335395813\n",
      "epoch43, loss 0.33321526646614075\n",
      "epoch44, loss 0.32949429750442505\n",
      "epoch45, loss 0.325814813375473\n",
      "epoch46, loss 0.32217687368392944\n",
      "epoch47, loss 0.3185790479183197\n",
      "epoch48, loss 0.31502169370651245\n",
      "epoch49, loss 0.31150397658348083\n",
      "epoch50, loss 0.3080254793167114\n",
      "epoch51, loss 0.3045855164527893\n",
      "epoch52, loss 0.30118435621261597\n",
      "epoch53, loss 0.29782119393348694\n",
      "epoch54, loss 0.29449552297592163\n",
      "epoch55, loss 0.2912067770957947\n",
      "epoch56, loss 0.2879549264907837\n",
      "epoch57, loss 0.28473928570747375\n",
      "epoch58, loss 0.28155964612960815\n",
      "epoch59, loss 0.27841559052467346\n",
      "epoch60, loss 0.2753066122531891\n",
      "epoch61, loss 0.2722321152687073\n",
      "epoch62, loss 0.26919224858283997\n",
      "epoch63, loss 0.2661861181259155\n",
      "epoch64, loss 0.2632139325141907\n",
      "epoch65, loss 0.2602744996547699\n",
      "epoch66, loss 0.2573677599430084\n",
      "epoch67, loss 0.25449392199516296\n",
      "epoch68, loss 0.25165218114852905\n",
      "epoch69, loss 0.24884183704853058\n",
      "epoch70, loss 0.24606329202651978\n",
      "epoch71, loss 0.24331551790237427\n",
      "epoch72, loss 0.24059860408306122\n",
      "epoch73, loss 0.23791159689426422\n",
      "epoch74, loss 0.23525512218475342\n",
      "epoch75, loss 0.23262779414653778\n",
      "epoch76, loss 0.23003025352954865\n",
      "epoch77, loss 0.22746159136295319\n",
      "epoch78, loss 0.22492161393165588\n",
      "epoch79, loss 0.22240976989269257\n",
      "epoch80, loss 0.21992623805999756\n",
      "epoch81, loss 0.21747033298015594\n",
      "epoch82, loss 0.215041846036911\n",
      "epoch83, loss 0.21264031529426575\n",
      "epoch84, loss 0.21026606857776642\n",
      "epoch85, loss 0.20791803300380707\n",
      "epoch86, loss 0.20559610426425934\n",
      "epoch87, loss 0.20330044627189636\n",
      "epoch88, loss 0.20103009045124054\n",
      "epoch89, loss 0.198785200715065\n",
      "epoch90, loss 0.19656534492969513\n",
      "epoch91, loss 0.1943703144788742\n",
      "epoch92, loss 0.19219987094402313\n",
      "epoch93, loss 0.1900538057088852\n",
      "epoch94, loss 0.18793129920959473\n",
      "epoch95, loss 0.185832679271698\n",
      "epoch96, loss 0.1837574988603592\n",
      "epoch97, loss 0.18170543015003204\n",
      "epoch98, loss 0.17967639863491058\n",
      "epoch99, loss 0.17766998708248138\n",
      "epoch100, loss 0.17568621039390564\n"
     ]
    }
   ],
   "source": [
    "import torch\n",
    "import torch.nn as nn\n",
    "from torch.autograd import Variable\n",
    "import numpy as np\n",
    "\n",
    "'''\n",
    "STEP 1: CREATE MODEL CLASS\n",
    "'''\n",
    "\n",
    "class LinearRegressionModel(nn.Module):\n",
    "    def __init__(self, input_size, output_size):\n",
    "        super(LinearRegressionModel, self).__init__()\n",
    "        self.linear = nn.Linear(input_dim, output_dim)\n",
    "    \n",
    "    def forward(self, x):\n",
    "        out = self.linear(x)\n",
    "        return out\n",
    "    \n",
    "'''\n",
    "STEP 2: INSTANTIATE MODEL CLASS\n",
    "'''\n",
    "input_dim = 1\n",
    "output_dim = 1\n",
    "\n",
    "model = LinearRegressionModel(input_dim, output_dim)\n",
    "\n",
    "#########################\n",
    "### USE GPU FOR MODEL ###\n",
    "#########################\n",
    "\n",
    "# if we can compile code on gpu\n",
    "if torch.cuda.is_available():\n",
    "    model.cuda()\n",
    "\n",
    "''' \n",
    "STEP 3: INSTANTIATE LOSS CLASS\n",
    "'''\n",
    "\n",
    "criterion = nn.MSELoss()\n",
    "\n",
    "'''\n",
    "STEP 4: INSTASNTIATE OPTIMIZER CLASS\n",
    "'''\n",
    "\n",
    "learning_rate = 0.01\n",
    "optimizer = torch.optim.SGD(model.parameters(), lr = learning_rate)\n",
    "\n",
    "'''\n",
    "STEP 5: TRAIN THE MODEL\n",
    "'''\n",
    "epochs = 100\n",
    "for epoch in range(epochs):\n",
    "    epoch += 1\n",
    "    # Convert numpy array to torch Variable\n",
    "    \n",
    "    #########################\n",
    "    ### USE GPU FOR MODEL ###\n",
    "    #########################\n",
    "    if torch.cuda.is_available():\n",
    "        inputs = Variable(torch.from_numpy(x_train).cuda())\n",
    "        labels = Variable(torch.from_numpy(y_train).cuda())\n",
    "    else:\n",
    "        inputs = Variable(torch.from_numpy(x_train))\n",
    "        labels = Variable(torch.from_numpy(y_train))\n",
    "        \n",
    "    # Clear gradients w.r.t. parameters\n",
    "    optimizer.zero_grad()\n",
    "    \n",
    "    # Forward to get output\n",
    "    outputs = model(inputs)\n",
    "    \n",
    "    # Calculate loss\n",
    "    loss = criterion(outputs, labels)\n",
    "    \n",
    "    # Getting gradients w.r.t. parameters\n",
    "    loss.backward()\n",
    "    \n",
    "    # Updating parameters\n",
    "    optimizer.step()\n",
    "    \n",
    "    # logging\n",
    "    \n",
    "    print('epoch{}, loss {}'.format(epoch, loss.data))\n",
    "    \n"
   ]
  },
  {
   "cell_type": "markdown",
   "metadata": {},
   "source": [
    "### Summary\n",
    "- Simple <b> linear regression basics </b>\n",
    "    - $ y = \\alpha x + \\beta $\n",
    "    - $ y = 2x + 1 $\n",
    "- <b> Example </b> of simple linear regression\n",
    "- <b> Aim </b> of linear regression\n",
    "    - Minimizing distance between the points and the line\n",
    "        - Calculate \"distance\" through MSE\n",
    "        - Calculate gradients\n",
    "        - Update parameters with <b> parameters = parameters - learning_rate*gradients\n",
    "        - Slowly update parameters $A$ and $B$ model the linear relationship between $y$ and $x$ of the form $ y = 2x + 1 $\n",
    "    - Built a linear regression <b> model </b> in <b> CPU </b> and <b> GPU </b>\n",
    "        - Step 1: Create Model Class\n",
    "        - Step 2: Instantiate Model Class\n",
    "        - Step 3: Instantiate Loss Class\n",
    "        - Step 4: Instantiate Optimizer Class\n",
    "        - Step 5: Train Model\n",
    "    - Important things to be on <b> GPU </b>\n",
    "        - model\n",
    "        - variables\n",
    "    - How to bring to <b> GPU </b> ?\n",
    "        - model_name.cuda()\n",
    "        - variable_name.cuda()\n",
    "        "
   ]
  }
 ],
 "metadata": {
  "kernelspec": {
   "display_name": "Python 3",
   "language": "python",
   "name": "python3"
  },
  "language_info": {
   "codemirror_mode": {
    "name": "ipython",
    "version": 3
   },
   "file_extension": ".py",
   "mimetype": "text/x-python",
   "name": "python",
   "nbconvert_exporter": "python",
   "pygments_lexer": "ipython3",
   "version": "3.7.4"
  }
 },
 "nbformat": 4,
 "nbformat_minor": 2
}
